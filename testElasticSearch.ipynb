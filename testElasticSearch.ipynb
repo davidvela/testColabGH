{
  "nbformat": 4,
  "nbformat_minor": 0,
  "metadata": {
    "colab": {
      "name": "testElasticSearch.ipynb",
      "version": "0.3.2",
      "provenance": [],
      "collapsed_sections": [
        "aNO1FKnq147D",
        "dMAX0dxu148P",
        "5ti4xyTd176S"
      ],
      "toc_visible": true,
      "include_colab_link": true
    },
    "kernelspec": {
      "display_name": "Python 3",
      "language": "python",
      "name": "python3"
    },
    "accelerator": "GPU"
  },
  "cells": [
    {
      "cell_type": "markdown",
      "metadata": {
        "id": "view-in-github",
        "colab_type": "text"
      },
      "source": [
        "[View in Colaboratory](https://colab.research.google.com/github/davidvela/testColabGH/blob/master/testElasticSearch.ipynb)"
      ]
    },
    {
      "metadata": {
        "id": "aNO1FKnq147D",
        "colab_type": "text"
      },
      "cell_type": "markdown",
      "source": [
        "# ES\n",
        "Elastic search testing <br>\n",
        "localhost:9200"
      ]
    },
    {
      "metadata": {
        "id": "cWHKu9Hd147E",
        "colab_type": "code",
        "colab": {}
      },
      "cell_type": "code",
      "source": [
        "from datetime import datetime\n",
        "import json \n",
        "from collections import namedtuple\n",
        "\n",
        "\n",
        "host = 'http://localhost:9200/'\n",
        "ref = 'accounts/person/1 '\n",
        "url = host + ref "
      ],
      "execution_count": 0,
      "outputs": []
    },
    {
      "metadata": {
        "id": "BRx0843N147I",
        "colab_type": "code",
        "colab": {}
      },
      "cell_type": "code",
      "source": [
        "doc = {\n",
        "    'author': 'kimchy',\n",
        "    'text': 'Elasticsearch: cool. bonsai cool.',\n",
        "    'timestamp': datetime.now(),\n",
        "}\n",
        "person = {\n",
        "      \"name\" : \"John2\",\n",
        "      \"lastname\" : \"Doe2\",\n",
        "      \"job_description\" : \"22 windows Systems administrator and Linux specialit linux\"\n",
        "}"
      ],
      "execution_count": 0,
      "outputs": []
    },
    {
      "metadata": {
        "id": "Rb0UwZ2m147L",
        "colab_type": "text"
      },
      "cell_type": "markdown",
      "source": [
        "## elasticsearch python package"
      ]
    },
    {
      "metadata": {
        "id": "gX2u4kHX147L",
        "colab_type": "text"
      },
      "cell_type": "markdown",
      "source": [
        "### Basic example ... "
      ]
    },
    {
      "metadata": {
        "id": "MauC6iAS147M",
        "colab_type": "code",
        "colab": {}
      },
      "cell_type": "code",
      "source": [
        "from elasticsearch import Elasticsearch\n",
        "es = Elasticsearch()"
      ],
      "execution_count": 0,
      "outputs": []
    },
    {
      "metadata": {
        "id": "Ct64Afac147P",
        "colab_type": "code",
        "colab": {},
        "outputId": "6763b159-c949-48be-cc93-bef2b5c3c4d6"
      },
      "cell_type": "code",
      "source": [
        "# indexing... \n",
        "res = es.index(index=\"test-index\", doc_type='tweet', id=1, body=doc)\n",
        "print(res['result'])"
      ],
      "execution_count": 0,
      "outputs": [
        {
          "output_type": "stream",
          "text": [
            "updated\n"
          ],
          "name": "stdout"
        }
      ]
    },
    {
      "metadata": {
        "id": "5O8ZhhP3147V",
        "colab_type": "code",
        "colab": {},
        "outputId": "f580ce49-c628-492e-8e37-d85447284493"
      },
      "cell_type": "code",
      "source": [
        "res = es.get(index=\"test-index\", doc_type='tweet', id=1)\n",
        "# res = es.get(index=\"accounts\", doc_type='person', id=1)\n",
        "print(res)\n",
        "print(res['_source'])"
      ],
      "execution_count": 0,
      "outputs": [
        {
          "output_type": "stream",
          "text": [
            "{'_index': 'test-index', '_type': 'tweet', '_id': '1', '_version': 3, 'found': True, '_source': {'author': 'kimchy', 'text': 'Elasticsearch: cool. bonsai cool. ch', 'timestamp': '2018-05-21T20:08:55.066455'}}\n",
            "{'author': 'kimchy', 'text': 'Elasticsearch: cool. bonsai cool. ch', 'timestamp': '2018-05-21T20:08:55.066455'}\n"
          ],
          "name": "stdout"
        }
      ]
    },
    {
      "metadata": {
        "id": "KO-nKCpe147a",
        "colab_type": "code",
        "colab": {}
      },
      "cell_type": "code",
      "source": [
        "es.indices.refresh(index=\"test-index\")"
      ],
      "execution_count": 0,
      "outputs": []
    },
    {
      "metadata": {
        "id": "m5U3Fmqb147c",
        "colab_type": "code",
        "colab": {},
        "outputId": "ee226266-1e3f-4e19-da90-34a1f990d70d"
      },
      "cell_type": "code",
      "source": [
        "res = es.search(index=\"test-index\", body={\"query\": {\"match_all\": {}} })\n",
        "print(\"Got %d Hits:\" % res['hits']['total'])\n",
        "for hit in res['hits']['hits']:\n",
        "    print(\"%(timestamp)s %(author)s: %(text)s\" % hit[\"_source\"])"
      ],
      "execution_count": 0,
      "outputs": [
        {
          "output_type": "stream",
          "text": [
            "Got 1 Hits:\n",
            "2018-05-21T20:07:01.476602 kimchy: Elasticsearch: cool. bonsai cool.\n"
          ],
          "name": "stdout"
        }
      ]
    },
    {
      "metadata": {
        "id": "2sXkek8e147g",
        "colab_type": "text"
      },
      "cell_type": "markdown",
      "source": [
        "### Features\n",
        "* Persistent connections: ?\n",
        "* Automatic Retries\n",
        "* Sniffing \n",
        "* thread safety \n",
        "* SSL and Authentication\n",
        "* Logging "
      ]
    },
    {
      "metadata": {
        "id": "q-0jpNQS147g",
        "colab_type": "code",
        "colab": {},
        "outputId": "c72c7a30-a9b4-4604-df32-893c5e294993"
      },
      "cell_type": "code",
      "source": [
        "... "
      ],
      "execution_count": 0,
      "outputs": [
        {
          "output_type": "execute_result",
          "data": {
            "text/plain": [
              "Ellipsis"
            ]
          },
          "metadata": {
            "tags": []
          },
          "execution_count": 17
        }
      ]
    },
    {
      "metadata": {
        "id": "DQHsG1nq147l",
        "colab_type": "code",
        "colab": {}
      },
      "cell_type": "code",
      "source": [
        ""
      ],
      "execution_count": 0,
      "outputs": []
    },
    {
      "metadata": {
        "id": "uKXVhkZf147n",
        "colab_type": "code",
        "colab": {}
      },
      "cell_type": "code",
      "source": [
        ""
      ],
      "execution_count": 0,
      "outputs": []
    },
    {
      "metadata": {
        "id": "lGfth6Jp147p",
        "colab_type": "text"
      },
      "cell_type": "markdown",
      "source": [
        "## Request library - HTTP lib"
      ]
    },
    {
      "metadata": {
        "id": "iUaNXi_i147q",
        "colab_type": "code",
        "colab": {}
      },
      "cell_type": "code",
      "source": [
        "import requests "
      ],
      "execution_count": 0,
      "outputs": []
    },
    {
      "metadata": {
        "id": "j_LmQqdm147u",
        "colab_type": "code",
        "colab": {},
        "outputId": "9d3494eb-f796-466f-fbb8-18f910b7e78d"
      },
      "cell_type": "code",
      "source": [
        "# http://localhost:9200/test-index/tweet/1\n",
        "ref = 'accounts/person/2 '\n",
        "# ref = 'test-index/tweet/1 '\n",
        "url = host + ref \n",
        "print(url)\n",
        "\n",
        "headers = {'Content-type': 'application/json', 'Accept': 'text/plain'}\n"
      ],
      "execution_count": 0,
      "outputs": [
        {
          "output_type": "stream",
          "text": [
            "http://localhost:9200/accounts/person/2 \n"
          ],
          "name": "stdout"
        }
      ]
    },
    {
      "metadata": {
        "id": "w8_3a_Gz147z",
        "colab_type": "code",
        "colab": {},
        "outputId": "c4d999dc-62b0-44da-cf06-05111747a9d8"
      },
      "cell_type": "code",
      "source": [
        "# ***** GET \n",
        "r = requests.get(url); show_r()"
      ],
      "execution_count": 0,
      "outputs": [
        {
          "output_type": "stream",
          "text": [
            "<Response [200]>\n",
            "200\n",
            "b'{\"_index\":\"accounts\",\"_type\":\"person\",\"_id\":\"2 \",\"_version\":3,\"found\":true,\"_source\":{\"name\": \"John2\", \"lastname\": \"Doe2\", \"job_description\": \"22 windows Systems administrator and Linux specialit linux\"}}'\n"
          ],
          "name": "stdout"
        }
      ]
    },
    {
      "metadata": {
        "id": "vUGVSv8A1472",
        "colab_type": "code",
        "colab": {},
        "outputId": "39c64060-d1f6-4715-d6a3-4f22a42f6a94"
      },
      "cell_type": "code",
      "source": [
        "# **** POST\n",
        "# payload = {'username': 'bob', 'email': 'bob@bob.com'}\n",
        "# r = requests.put(\"http://somedomain.org/endpoint\", data=payload)\n",
        "doc_data = person\n",
        "query = json.dumps(doc_data)\n",
        "r = requests.post(url, data=query, headers= headers); show_r()"
      ],
      "execution_count": 0,
      "outputs": [
        {
          "output_type": "stream",
          "text": [
            "<Response [200]>\n",
            "200\n",
            "b'{\"_index\":\"accounts\",\"_type\":\"person\",\"_id\":\"2 \",\"_version\":4,\"result\":\"updated\",\"_shards\":{\"total\":2,\"successful\":1,\"failed\":0},\"_seq_no\":3,\"_primary_term\":2}'\n"
          ],
          "name": "stdout"
        }
      ]
    },
    {
      "metadata": {
        "id": "YDQO1jpn1476",
        "colab_type": "code",
        "colab": {},
        "outputId": "7230f653-29f5-4366-ca2c-4fc28e26029f"
      },
      "cell_type": "code",
      "source": [
        "# ***** SEARCH\n",
        "term = \"windows\"\n",
        "query = json.dumps({\n",
        "    \"query\": {\n",
        "        \"match\": {\n",
        "            \"content\": term\n",
        "        }\n",
        "    }\n",
        "})\n",
        "query = json.dumps({\n",
        "    \"query\": {\n",
        "        \"match_all\": { }\n",
        "    }\n",
        "})\n",
        "url = host + ref + \"_search\"\n",
        "\n",
        "print(url)\n",
        "# r = requests.get(host, data=query); show_r() # 406 error - header not supported\n",
        "r = requests.get(url, data=query, headers = headers); show_r()\n",
        "# r = requests.get(url, params=query)"
      ],
      "execution_count": 0,
      "outputs": [
        {
          "output_type": "stream",
          "text": [
            "http://localhost:9200/accounts/person/_search\n",
            "<Response [200]>\n",
            "200\n",
            "b'{\"took\":2,\"timed_out\":false,\"_shards\":{\"total\":5,\"successful\":5,\"skipped\":0,\"failed\":0},\"hits\":{\"total\":2,\"max_score\":1.0,\"hits\":[{\"_index\":\"accounts\",\"_type\":\"person\",\"_id\":\"1 \",\"_score\":1.0,\"_source\":{\"name\": \"John\", \"lastname\": \"Doe\", \"job_description\": \"Systems administrator and Linux specialit\"}},{\"_index\":\"accounts\",\"_type\":\"person\",\"_id\":\"2 \",\"_score\":1.0,\"_source\":{\"name\": \"John2\", \"lastname\": \"Doe2\", \"job_description\": \"22 windows Systems administrator and Linux specialit linux\"}}]}}'\n"
          ],
          "name": "stdout"
        }
      ]
    },
    {
      "metadata": {
        "id": "-eCqK8bn1479",
        "colab_type": "code",
        "colab": {},
        "outputId": "1c2c3dea-cef0-4eb0-91f4-6be3856aa6c6"
      },
      "cell_type": "code",
      "source": [
        "# ***** SEARCH with HIGHLIGHT\n",
        "# curl -X GET \"localhost:9200/_search\" -H 'Content-Type: application/json' \n",
        "# -d' { \"query\" : { \"match\": { \"content\": \"kimchy\" } }, \"highlight\" : { \"fields\" : { \"content\" : {} } } } '\n",
        "# localhost:9200/_search?q=linux\n",
        "\n",
        "term = \"linux\"\n",
        "query = json.dumps({\n",
        "    \"query\" : {\n",
        "        \"match\": { \"job_description\": term }\n",
        "    }\n",
        "    ,\n",
        "    \"highlight\" : {\n",
        "        \"fields\" : {\n",
        "            \"job_description\" : {}\n",
        "        }\n",
        "    }\n",
        "})\n",
        "\n",
        "# query = json.dumps({\n",
        "#     \"query\": {\n",
        "#         \"match_all\": {  }\n",
        "#     }\n",
        "# })\n",
        "url = host + ref + \"_search\"\n",
        "\n",
        "print(url)\n",
        "print(query)\n",
        "# r = requests.get(host, data=query); show_r() # 406 error - header not supported\n",
        "r = requests.get(url, data=query, headers = headers); show_r()\n",
        "# r = requests.get(url, params=query)"
      ],
      "execution_count": 0,
      "outputs": [
        {
          "output_type": "stream",
          "text": [
            "http://localhost:9200/accounts/person/_search\n",
            "{\"query\": {\"match\": {\"job_description\": \"linux\"}}, \"highlight\": {\"fields\": {\"job_description\": {}}}}\n",
            "<Response [200]>\n",
            "200\n",
            "b'{\"took\":5,\"timed_out\":false,\"_shards\":{\"total\":5,\"successful\":5,\"skipped\":0,\"failed\":0},\"hits\":{\"total\":2,\"max_score\":0.39556286,\"hits\":[{\"_index\":\"accounts\",\"_type\":\"person\",\"_id\":\"2 \",\"_score\":0.39556286,\"_source\":{\"name\": \"John2\", \"lastname\": \"Doe2\", \"job_description\": \"22 windows Systems administrator and Linux specialit linux\"},\"highlight\":{\"job_description\":[\"22 windows Systems administrator and <em>Linux</em> specialit <em>linux</em>\"]}},{\"_index\":\"accounts\",\"_type\":\"person\",\"_id\":\"1 \",\"_score\":0.2876821,\"_source\":{\"name\": \"John\", \"lastname\": \"Doe\", \"job_description\": \"Systems administrator and Linux specialit\"},\"highlight\":{\"job_description\":[\"Systems administrator and <em>Linux</em> specialit\"]}}]}}'\n"
          ],
          "name": "stdout"
        }
      ]
    },
    {
      "metadata": {
        "id": "zVmTNyaZ148C",
        "colab_type": "code",
        "colab": {}
      },
      "cell_type": "code",
      "source": [
        ""
      ],
      "execution_count": 0,
      "outputs": []
    },
    {
      "metadata": {
        "id": "S1dHIEuZ148E",
        "colab_type": "code",
        "colab": {},
        "outputId": "633b3afc-e664-4fb4-de22-d13c50087f18"
      },
      "cell_type": "code",
      "source": [
        "#GET localhost:9200/_search?q=john\n",
        "# GET localhost:9200/_search?q=job_description:john\n",
        "# GET localhost:9200/accounts/person/_search?q=job_description:linux\n",
        "\n",
        "item = \"job_description:linux\"\n",
        "# item = \"john\"\n",
        "\n",
        "query = \"_search?q=\"+item\n",
        "\n",
        "ref = 'accounts/person/'\n",
        "url = host + ref + query\n",
        "print(url)\n",
        "r = requests.get(url, headers = headers); show_r()"
      ],
      "execution_count": 0,
      "outputs": [
        {
          "output_type": "stream",
          "text": [
            "http://localhost:9200/accounts/person/_search?q=job_description:linux\n",
            "<Response [200]>\n",
            "200\n",
            "b'{\"took\":167,\"timed_out\":false,\"_shards\":{\"total\":5,\"successful\":5,\"skipped\":0,\"failed\":0},\"hits\":{\"total\":2,\"max_score\":0.39556286,\"hits\":[{\"_index\":\"accounts\",\"_type\":\"person\",\"_id\":\"2 \",\"_score\":0.39556286,\"_source\":{\"name\": \"John2\", \"lastname\": \"Doe2\", \"job_description\": \"22 windows Systems administrator and Linux specialit linux\"}},{\"_index\":\"accounts\",\"_type\":\"person\",\"_id\":\"1 \",\"_score\":0.2876821,\"_source\":{\"name\": \"John\", \"lastname\": \"Doe\", \"job_description\": \"Systems administrator and Linux specialit\"}}]}}'\n"
          ],
          "name": "stdout"
        }
      ]
    },
    {
      "metadata": {
        "id": "fkhhDA7h148J",
        "colab_type": "code",
        "colab": {}
      },
      "cell_type": "code",
      "source": [
        "item = \"job_description:linux\"\n",
        "# item = \"john\"\n",
        "\n",
        "query = \"_search?q=\"+item\n",
        "\n",
        "ref = 'accounts/person/'\n",
        "url = host + ref + query\n",
        "print(url)\n",
        "r = requests.get(url, headers = headers); show_r()\n",
        "\n",
        "# curl \n",
        "# curl -X GET \"localhost:9200/_search\" -H 'Content-Type: application/json' \n",
        "# -d' { \"query\" : { \"match\": { \"content\": \"kimchy\" } }, \"highlight\" : { \"fields\" : { \"content\" : {} } } } '\n",
        "# json: \n",
        "# {\n",
        "#     \"query\" : {\n",
        "#         \"match\": { \"content\": \"kimchy\" }\n",
        "#     },\n",
        "#     \"highlight\" : {\n",
        "#         \"fields\" : {\n",
        "#             \"content\" : {}\n",
        "#         }\n",
        "#     }\n",
        "# }"
      ],
      "execution_count": 0,
      "outputs": []
    },
    {
      "metadata": {
        "id": "Ai255qI2148L",
        "colab_type": "code",
        "colab": {}
      },
      "cell_type": "code",
      "source": [
        "# **** SHOW RESULTS \n",
        "def show_r():\n",
        "    # {\"_index\":\"test-index\",\"_type\":\"tweet\",\"_id\":\"1\",\"_version\":3,\n",
        "    #  \"found\":true,\n",
        "    #  \"_source\":{\"author\":\"kimchy\",\"text\":\"Elasticsearch: cool. bonsai cool. ch\",\"timestamp\":\"2018-05-21T20:08:55.066455\"}}\n",
        "    print(r)\n",
        "    print(r.status_code)\n",
        "    print(r.content)\n",
        "\n",
        "    # x = json.loads(cc, object_hook=lambda d: namedtuple('X', d.keys())(*d.values()))\n",
        "    # print(x)"
      ],
      "execution_count": 0,
      "outputs": []
    },
    {
      "metadata": {
        "id": "O72g3m3J148N",
        "colab_type": "code",
        "colab": {}
      },
      "cell_type": "code",
      "source": [
        ""
      ],
      "execution_count": 0,
      "outputs": []
    },
    {
      "metadata": {
        "id": "dMAX0dxu148P",
        "colab_type": "text"
      },
      "cell_type": "markdown",
      "source": [
        "## others: httplib, urllib2"
      ]
    },
    {
      "metadata": {
        "id": "inLD-co6148P",
        "colab_type": "code",
        "colab": {}
      },
      "cell_type": "code",
      "source": [
        "import httplib\n",
        "connection =  httplib.HTTPConnection('1.2.3.4:1234')\n",
        "body_content = 'BODY CONTENT GOES HERE'\n",
        "connection.request('PUT', '/url/path/to/put/to', body_content)\n",
        "result = connection.getresponse()\n",
        "# Now result.status and result.reason contains interesting stuff"
      ],
      "execution_count": 0,
      "outputs": []
    },
    {
      "metadata": {
        "id": "O4-zwkXd148S",
        "colab_type": "code",
        "colab": {}
      },
      "cell_type": "code",
      "source": [
        "import urllib2\n",
        "opener = urllib2.build_opener(urllib2.HTTPHandler)\n",
        "request = urllib2.Request('http://example.org', data='your_put_data')\n",
        "request.add_header('Content-Type', 'your/contenttype')\n",
        "request.get_method = lambda: 'PUT'\n",
        "url = opener.open(request)"
      ],
      "execution_count": 0,
      "outputs": []
    },
    {
      "metadata": {
        "id": "n0HrZIzX148U",
        "colab_type": "code",
        "colab": {}
      },
      "cell_type": "code",
      "source": [
        ""
      ],
      "execution_count": 0,
      "outputs": []
    },
    {
      "metadata": {
        "id": "5ti4xyTd176S",
        "colab_type": "text"
      },
      "cell_type": "markdown",
      "source": [
        "# ES TC\n",
        "Elastic Search - Text Classification<br><br>\n",
        "my opinion... there is no spefic number of categories here... \n",
        "this kind of text classifcation is based on the **more like this query from elastic search**... this kind of search is able to give you some **hints** and implementing a bit of code in python is able to give you the top hit between all the similar documents in the elastic search. \n",
        "\n",
        "evaluation: \n",
        "- ++ easy to implement\n",
        "- ++ great performance (no training time)\n",
        "- -- poor accuracy and control over the predictions\n",
        "- -- not a real algorithm to predict data and no interlligence\n",
        "- __ all the data must be saved in the elastic search server ... otherwise it does not work! "
      ]
    },
    {
      "metadata": {
        "id": "WLUSnOMc2BTI",
        "colab_type": "text"
      },
      "cell_type": "markdown",
      "source": [
        "documentation: \n",
        "  * [Blog - turorial ](https://www.elastic.co/blog/text-classification-made-easy-with-elasticsearch) \n",
        "  * [Ingest - attachment plugin ](https://www.elastic.co/guide/en/elasticsearch/plugins/current/ingest-attachment.html) \n",
        "  \n",
        "  "
      ]
    },
    {
      "metadata": {
        "id": "noFUpOzU1-dR",
        "colab_type": "code",
        "colab": {}
      },
      "cell_type": "code",
      "source": [
        "sample_mapping =   {\n",
        "                      \"properties\":{\n",
        "                         \"content\":{\n",
        "                            \"type\":\"text\",\n",
        "                            \"analyzer\":\"german\"\n",
        "                         }\n",
        "                      }\n",
        "                    }"
      ],
      "execution_count": 0,
      "outputs": []
    },
    {
      "metadata": {
        "id": "UYMurz3P2AnZ",
        "colab_type": "code",
        "colab": {}
      },
      "cell_type": "code",
      "source": [
        "# language analyzer: \n",
        "curl -XGET \"http://localhost:9200/_analyze?analyzer=english\" -d'\n",
        "  {\n",
        "   \"text\" : \"This is a test.\"\n",
        "  }'\n",
        "  {\n",
        "    \"tokens\":[\n",
        "       {\n",
        "          \"token\":\"test\",\n",
        "          \"start_offset\":10,\n",
        "          \"end_offset\":14,\n",
        "          \"type\":\"<ALPHANUM>\",\n",
        "          \"position\":3\n",
        "       }\n",
        "    ]\n",
        "  }"
      ],
      "execution_count": 0,
      "outputs": []
    },
    {
      "metadata": {
        "id": "Or-FkcwI3ELk",
        "colab_type": "text"
      },
      "cell_type": "markdown",
      "source": [
        "You just need to execute 4 steps:\n",
        "\n",
        "1. Configure your mapping (\"content\" : \"text\", \"category\" : \"keyword\")\n",
        "2. Index your documents\n",
        "3. Run a More Like This Query [](MLT Query)](https://www.elastic.co/guide/en/elasticsearch/reference/current/query-dsl-mlt-query.html)\n",
        "4. Write a small script that aggregates the hits of that query by score"
      ]
    },
    {
      "metadata": {
        "id": "mWVEzXm53zOm",
        "colab_type": "text"
      },
      "cell_type": "markdown",
      "source": [
        "## Queries example.."
      ]
    },
    {
      "metadata": {
        "id": "flwuPro-2AqI",
        "colab_type": "code",
        "colab": {}
      },
      "cell_type": "code",
      "source": [
        "PUT sample\n",
        "  POST sample/document/_mapping\n",
        "  {\n",
        "    \"properties\":{\n",
        "       \"content\":{\n",
        "          \"type\":\"text\",\n",
        "          \"analyzer\":\"english\"\n",
        "       },\n",
        "       \"category\":{\n",
        "          \"type\":\"text\",\n",
        "          \"analyzer\":\"english\",\n",
        "          \"fields\":{\n",
        "             \"raw\":{\n",
        "                \"type\":\"keyword\"\n",
        "             }\n",
        "          }\n",
        "       }\n",
        "    }\n",
        "  }\n",
        "  POST sample/document/1\n",
        "  {\n",
        "    \"category\":\"Apple (Fruit)\",\n",
        "    \"content\":\"Granny Smith, Royal Gala, Golden Delicious and Pink Lady are just a few of the thousands of different kinds of apple that are grown around the world! You can make dried apple rings at home - ask an adult to help you take out the core, thinly slice the apple and bake the rings in the oven at a low heat.\"\n",
        "  }\n",
        "  POST sample/document/2\n",
        "  {\n",
        "    \"category\":\"Apple (Company)\",\n",
        "    \"content\":\"Apple is an American multinational technology company headquartered in Cupertino, California, that designs, develops, and sells consumer electronics, computer software, and online services. Its hardware products include the iPhone smartphone, the iPad tablet computer, the Mac personal computer, the iPod portable media player, the Apple Watch smartwatch, and the Apple TV digital media player. Apple's consumer software includes the macOS and iOS operating systems, the iTunes media player, the Safari web browser, and the iLife and iWork creativity and productivity suites. Its online services include the iTunes Store, the iOS App Store and Mac App Store, Apple Music, and iCloud.\"\n",
        "  }\n",
        "\n",
        "\n",
        "GET sample/document/_search\n",
        "  {\n",
        "    \"query\":{\n",
        "       \"more_like_this\":{\n",
        "          \"fields\":[\n",
        "             \"content\",\n",
        "             \"category\"\n",
        "          ],\n",
        "          \"like\":\"The apple tree (Malus pumila, commonly and erroneously called Malus domestica) is a deciduous tree in the rose family best known for its sweet, pomaceous fruit, the apple. It is cultivated worldwide as a fruit tree, and is the most widely grown species in the genus Malus. The tree originated in Central Asia, where its wild ancestor, Malus sieversii, is still found today. Apples have been grown for thousands of years in Asia and Europe, and were brought to North America by European colonists. Apples have religious and mythological significance in many cultures, including Norse, Greek and European Christian traditions.\",\n",
        "          \"min_term_freq\":1,\n",
        "          \"max_query_terms\":20\n",
        "       }\n",
        "    }\n",
        "  }\n"
      ],
      "execution_count": 0,
      "outputs": []
    },
    {
      "metadata": {
        "id": "ugBTJoIC31Ie",
        "colab_type": "text"
      },
      "cell_type": "markdown",
      "source": [
        "## python script "
      ]
    },
    {
      "metadata": {
        "id": "YEdlShEp2AtJ",
        "colab_type": "code",
        "colab": {}
      },
      "cell_type": "code",
      "source": [
        "# And here's a little Python script that processes the response and returns the most likely category for the input document.\n",
        "\n",
        "from operator import itemgetter\n",
        "  def get_best_category(response):\n",
        "     categories = {}\n",
        "     for hit in response['hits']['hits']:\n",
        "         score = hit['_score']\n",
        "         for category in hit['_source']['category']: \n",
        "             if category not in categories:\n",
        "                 categories[category] = score\n",
        "             else:\n",
        "                 categories[category] += score\n",
        "     if len(categories) > 0:\n",
        "         sortedCategories = sorted(categories.items(), key=itemgetter(1), reverse=True)\n",
        "         category = sortedCategories[0][0]\n",
        "     return category"
      ],
      "execution_count": 0,
      "outputs": []
    },
    {
      "metadata": {
        "id": "Ai-1L1vH36qY",
        "colab_type": "code",
        "colab": {}
      },
      "cell_type": "code",
      "source": [
        ""
      ],
      "execution_count": 0,
      "outputs": []
    },
    {
      "metadata": {
        "id": "TnoTYlhS4Vrn",
        "colab_type": "code",
        "colab": {}
      },
      "cell_type": "code",
      "source": [
        ""
      ],
      "execution_count": 0,
      "outputs": []
    },
    {
      "metadata": {
        "id": "o8qNNvWj4Xxq",
        "colab_type": "text"
      },
      "cell_type": "markdown",
      "source": [
        "## article summary"
      ]
    },
    {
      "metadata": {
        "id": "tv-1SQXj4X0i",
        "colab_type": "text"
      },
      "cell_type": "markdown",
      "source": [
        "Use cases\n",
        "Classification of text is a very common real world use case for NLP. Think of e-commerce data (products). Lots of people run e-commerce shops with affiliate links. The data is provided by several shops and often comes with a category tag. But each shop has another category tag. So the category systems need to be unified and hence all the data needs to be re-classified according to the new category tree. Or think of a Business Intelligence application where company websites need to be classified according to their sector (hairdresser vs. bakery etc).\n",
        "\n",
        "Evaluation\n",
        "I evaluated this approach with a standard text classification dataset: The 20 Newsgroups dataset. The highest precision (92% correct labels) was achieved with a high quality score threshold that included only 12% of the documents. When labelling all documents (100% Recall) 72% of the predictions were correct.\n",
        "\n",
        "The best algorithms for text classification on the 20 Newsgroups dataset are usually SVM and Naive Bayes. They have a higher average accuracy on the entire dataset.\n",
        "\n",
        "So why should you consider using Elasticsearch for classification if there are better algorithms?\n",
        "\n",
        "There are a few practical reasons: training an SVM model takes a lot of time. Especially when you work in a startup or you need to adapt quickly for different customers or use cases that might become a real problem. So you may not be able to retrain your model every time your data changes. I experienced it myself working on a project for a big German bank. Hence you will work with outdated models and those will for sure not score that good anymore.\n",
        "\n",
        "With the Elasticsearch approach training happens at index time and your model can be updated dynamically at any point in time with zero downtime of your application. If your data is stored in Elasticsearch anyway, you don't need any additional infrastructure. With over 10% highly accurate results you can usually fill the first page. In many applications that's enough for a first good impression.\n",
        "\n",
        "Why then use Elasticsearch when there are other tools?\n",
        "\n",
        "Because your data is already there and it's going to pre-compute the underlying statistics anyway. It's almost like you get some NLP for free!"
      ]
    },
    {
      "metadata": {
        "id": "Bn3E1KHc33ze",
        "colab_type": "text"
      },
      "cell_type": "markdown",
      "source": [
        "# TC \n",
        "Text Classification"
      ]
    },
    {
      "metadata": {
        "id": "uwUPkDgA07A5",
        "colab_type": "text"
      },
      "cell_type": "markdown",
      "source": [
        "# TC TH - text classification tutorial\n",
        "<table align=\"left\"><td>\n",
        "  <a target=\"_blank\"  href=\"https://colab.research.google.com/github/tensorflow/hub/blob/master/docs/tutorials/text_classification_with_tf_hub.ipynb\">\n",
        "    <img src=\"https://www.tensorflow.org/images/colab_logo_32px.png\" />Run in Google Colab\n",
        "  </a>\n",
        "</td><td>\n",
        "  <a target=\"_blank\"  href=\"https://github.com/tensorflow/hub/blob/master/docs/tutorials/text_classification_with_tf_hub.ipynb\">\n",
        "    <img width=32px src=\"https://www.tensorflow.org/images/GitHub-Mark-32px.png\" />View source on GitHub</a>\n",
        "</td></table>\n",
        "<br><br><br>\n",
        "\n",
        "data:  [Large Movie Review Dataset v1.0](http://ai.stanford.edu/~amaas/data/sentiment/) \n",
        "\n",
        "The dataset consists of IMDB movie reviews labeled by positivity from 1 to 10. \n",
        "\n",
        "The task is to label the reviews as **negative** or **positive**.\n"
      ]
    },
    {
      "metadata": {
        "id": "den9QnZY343V",
        "colab_type": "code",
        "colab": {
          "base_uri": "https://localhost:8080/",
          "height": 153
        },
        "outputId": "25d1ca62-2831-4172-cdc5-b992df1aa534"
      },
      "cell_type": "code",
      "source": [
        "# script:\n",
        "#Import----------------------------------------------------------------------\n",
        "# >>> Preparing environment\n",
        "# Install the latest Tensorflow version.\n",
        "!pip install --quiet \"tensorflow>=1.7\"\n",
        "# Install TF-Hub.\n",
        "!pip install tensorflow-hub\n",
        "!pip install seaborn\n",
        "# >>>>> import libraries\n",
        "import tensorflow as tf\n",
        "import tensorflow_hub as hub\n",
        "import matplotlib.pyplot as plt\n",
        "import numpy as np\n",
        "import os\n",
        "import pandas as pd\n",
        "import re\n",
        "import seaborn as sns\n",
        "# data------------------------------------------------------------------------- \n",
        "# Load all files from a directory in a DataFrame.\n",
        "def load_directory_data(directory):\n",
        "  data = {}\n",
        "  data[\"sentence\"] = []\n",
        "  data[\"sentiment\"] = []\n",
        "  for file_path in os.listdir(directory):\n",
        "    with tf.gfile.GFile(os.path.join(directory, file_path), \"r\") as f:\n",
        "      data[\"sentence\"].append(f.read())\n",
        "      data[\"sentiment\"].append(re.match(\"\\d+_(\\d+)\\.txt\", file_path).group(1))\n",
        "  return pd.DataFrame.from_dict(data)\n",
        "\n",
        "# Merge positive and negative examples, add a polarity column and shuffle.\n",
        "def load_dataset(directory):\n",
        "  pos_df = load_directory_data(os.path.join(directory, \"pos\"))\n",
        "  neg_df = load_directory_data(os.path.join(directory, \"neg\"))\n",
        "  pos_df[\"polarity\"] = 1\n",
        "  neg_df[\"polarity\"] = 0\n",
        "  return pd.concat([pos_df, neg_df]).sample(frac=1).reset_index(drop=True)\n",
        "\n",
        "# Download and process the dataset files.\n",
        "def download_and_load_datasets(force_download=False):\n",
        "  dataset = tf.keras.utils.get_file(\n",
        "      fname=\"aclImdb.tar.gz\", \n",
        "      origin=\"http://ai.stanford.edu/~amaas/data/sentiment/aclImdb_v1.tar.gz\", \n",
        "      extract=True)\n",
        "  \n",
        "  train_df = load_dataset(os.path.join(os.path.dirname(dataset), \"aclImdb\", \"train\"))\n",
        "  test_df = load_dataset(os.path.join(os.path.dirname(dataset), \"aclImdb\", \"test\"))\n",
        "  return train_df, test_df\n",
        "\n",
        "# Reduce logging output.\n",
        "tf.logging.set_verbosity(tf.logging.ERROR)\n",
        "\n",
        "#TODO: LOAD THEM LOCALLY IF NOT -> DOWNLOAD\n",
        "train_df, test_df = download_and_load_datasets()\n",
        "# train_df.head()\n",
        "\n",
        "#Model------------------------------------------------------------------------\n",
        "# Training input on the whole training set with no limit on training epochs.\n",
        "train_input_fn = tf.estimator.inputs.pandas_input_fn(\n",
        "    train_df, train_df[\"polarity\"], num_epochs=None, shuffle=True)\n",
        "\n",
        "# Prediction on the whole training set.\n",
        "predict_train_input_fn = tf.estimator.inputs.pandas_input_fn(\n",
        "    train_df, train_df[\"polarity\"], shuffle=False)\n",
        "# Prediction on the test set.\n",
        "predict_test_input_fn = tf.estimator.inputs.pandas_input_fn(\n",
        "    test_df, test_df[\"polarity\"], shuffle=False)\n",
        "\n",
        "#load tfhub component .... (time consuming!)\n",
        "embedded_text_feature_column = hub.text_embedding_column(\n",
        "    key=\"sentence\", \n",
        "    module_spec=\"https://tfhub.dev/google/nnlm-en-dim128/1\")\n",
        "#>>> estimator \n",
        "estimator = tf.estimator.DNNClassifier(\n",
        "    hidden_units=[500, 100],\n",
        "    feature_columns=[embedded_text_feature_column],\n",
        "    n_classes=2,\n",
        "    optimizer=tf.train.AdagradOptimizer(learning_rate=0.003))\n",
        "\n",
        "#>>> training------------------------------------------------------------------ \n",
        "# Training for 1,000 steps means 128,000 training examples with the default\n",
        "# batch size. This is roughly equivalent to 5 epochs since the training dataset\n",
        "# contains 25,000 examples.\n",
        "estimator.train(input_fn=train_input_fn, steps=1000);"
      ],
      "execution_count": 2,
      "outputs": [
        {
          "output_type": "stream",
          "text": [
            "Requirement already satisfied: tensorflow-hub in /usr/local/lib/python3.6/dist-packages (0.1.1)\n",
            "Requirement already satisfied: numpy>=1.12.0 in /usr/local/lib/python3.6/dist-packages (from tensorflow-hub) (1.14.5)\n",
            "Requirement already satisfied: six>=1.10.0 in /usr/local/lib/python3.6/dist-packages (from tensorflow-hub) (1.11.0)\n",
            "Requirement already satisfied: protobuf>=3.4.0 in /usr/local/lib/python3.6/dist-packages (from tensorflow-hub) (3.6.1)\n",
            "Requirement already satisfied: setuptools in /usr/local/lib/python3.6/dist-packages (from protobuf>=3.4.0->tensorflow-hub) (39.1.0)\n",
            "Requirement already satisfied: seaborn in /usr/local/lib/python3.6/dist-packages (0.7.1)\n",
            "Downloading data from http://ai.stanford.edu/~amaas/data/sentiment/aclImdb_v1.tar.gz\n",
            "84131840/84125825 [==============================] - 7s 0us/step\n"
          ],
          "name": "stdout"
        }
      ]
    },
    {
      "metadata": {
        "id": "K0Uut7Gw2BLN",
        "colab_type": "code",
        "colab": {}
      },
      "cell_type": "code",
      "source": [
        ""
      ],
      "execution_count": 0,
      "outputs": []
    },
    {
      "metadata": {
        "id": "X1BEOgMV35vQ",
        "colab_type": "code",
        "colab": {
          "base_uri": "https://localhost:8080/",
          "height": 207
        },
        "outputId": "62b5ba9e-c5aa-4aa9-818f-296e9dc61ab9"
      },
      "cell_type": "code",
      "source": [
        "#------------------------------------------------------------------------\n",
        "# TESTS------------------------------------------------------------------------\n",
        "#------------------------------------------------------------------------\n",
        "#>>>> new data \n",
        "test_df  # .columns # Index(['sentence', 'sentiment', 'polarity'], dtype='object')\n",
        "d =  { 'sentence': ['I liked the movie', \n",
        "                    'I hate the movie', \n",
        "                    'I like the movie but I hate the book', \n",
        "                    'I dont like the book ',\n",
        "                    'I loved it'], \n",
        "      'sentiment': [8, 1, 6, 7, 9], \n",
        "      'polarity': [1, 0, 1, 1, 1] }\n",
        "\n",
        "\n",
        "new_df = pd.DataFrame(data=d)\n",
        "# new_df\n",
        "\n",
        "predict_new_input_fn = tf.estimator.inputs.pandas_input_fn(\n",
        "    new_df, new_df[\"polarity\"], shuffle=False)\n",
        "\n",
        "# new_eval_result = estimator.evaluate(input_fn=predict_new_input_fn)\n",
        "new_pred_result = estimator.predict(input_fn=predict_new_input_fn)\n",
        "\n",
        "# template = ('\\nPrediction is \"{}\" ({:.1f}%), expected \"{}\"')\n",
        "# print(template.format(iris_data.SPECIES[class_id],\n",
        "#                       100 * probability, expec))\n",
        "\n",
        "for pred_dict in zip(new_pred_result): \n",
        "  print( pred_dict )\n",
        "  print( pred_dict[0][\"probabilities\"]  )\n",
        "#   print( \"prob to be 0: {} \" .format( pred_dict[\"probabilities\"][0] ) )"
      ],
      "execution_count": 3,
      "outputs": [
        {
          "output_type": "stream",
          "text": [
            "({'logits': array([0.67393905], dtype=float32), 'logistic': array([0.66238457], dtype=float32), 'probabilities': array([0.33761537, 0.66238457], dtype=float32), 'class_ids': array([1]), 'classes': array([b'1'], dtype=object)},)\n",
            "[0.33761537 0.66238457]\n",
            "({'logits': array([-1.4182086], dtype=float32), 'logistic': array([0.19494256], dtype=float32), 'probabilities': array([0.8050574 , 0.19494256], dtype=float32), 'class_ids': array([0]), 'classes': array([b'0'], dtype=object)},)\n",
            "[0.8050574  0.19494256]\n",
            "({'logits': array([-1.0530326], dtype=float32), 'logistic': array([0.25864318], dtype=float32), 'probabilities': array([0.7413568 , 0.25864315], dtype=float32), 'class_ids': array([0]), 'classes': array([b'0'], dtype=object)},)\n",
            "[0.7413568  0.25864315]\n",
            "({'logits': array([-1.2170464], dtype=float32), 'logistic': array([0.22845665], dtype=float32), 'probabilities': array([0.7715433 , 0.22845665], dtype=float32), 'class_ids': array([0]), 'classes': array([b'0'], dtype=object)},)\n",
            "[0.7715433  0.22845665]\n",
            "({'logits': array([1.9153957], dtype=float32), 'logistic': array([0.8716241], dtype=float32), 'probabilities': array([0.12837589, 0.8716241 ], dtype=float32), 'class_ids': array([1]), 'classes': array([b'1'], dtype=object)},)\n",
            "[0.12837589 0.8716241 ]\n"
          ],
          "name": "stdout"
        }
      ]
    },
    {
      "metadata": {
        "id": "HFN9TMgP35x4",
        "colab_type": "code",
        "colab": {
          "base_uri": "https://localhost:8080/",
          "height": 221
        },
        "outputId": "276ffa39-09df-46fe-934b-3122d8fe1cc2"
      },
      "cell_type": "code",
      "source": [
        "print(d['sentence'][0])\n",
        "# print(new_df[0])  # error ... TODO: FIX\n",
        "new_df"
      ],
      "execution_count": 6,
      "outputs": [
        {
          "output_type": "stream",
          "text": [
            "I liked the movie\n"
          ],
          "name": "stdout"
        },
        {
          "output_type": "execute_result",
          "data": {
            "text/html": [
              "<div>\n",
              "<style scoped>\n",
              "    .dataframe tbody tr th:only-of-type {\n",
              "        vertical-align: middle;\n",
              "    }\n",
              "\n",
              "    .dataframe tbody tr th {\n",
              "        vertical-align: top;\n",
              "    }\n",
              "\n",
              "    .dataframe thead th {\n",
              "        text-align: right;\n",
              "    }\n",
              "</style>\n",
              "<table border=\"1\" class=\"dataframe\">\n",
              "  <thead>\n",
              "    <tr style=\"text-align: right;\">\n",
              "      <th></th>\n",
              "      <th>polarity</th>\n",
              "      <th>sentence</th>\n",
              "      <th>sentiment</th>\n",
              "    </tr>\n",
              "  </thead>\n",
              "  <tbody>\n",
              "    <tr>\n",
              "      <th>0</th>\n",
              "      <td>1</td>\n",
              "      <td>I liked the movie</td>\n",
              "      <td>8</td>\n",
              "    </tr>\n",
              "    <tr>\n",
              "      <th>1</th>\n",
              "      <td>0</td>\n",
              "      <td>I hate the movie</td>\n",
              "      <td>1</td>\n",
              "    </tr>\n",
              "    <tr>\n",
              "      <th>2</th>\n",
              "      <td>1</td>\n",
              "      <td>I like the movie but I hate the book</td>\n",
              "      <td>6</td>\n",
              "    </tr>\n",
              "    <tr>\n",
              "      <th>3</th>\n",
              "      <td>1</td>\n",
              "      <td>I dont like the book</td>\n",
              "      <td>7</td>\n",
              "    </tr>\n",
              "    <tr>\n",
              "      <th>4</th>\n",
              "      <td>1</td>\n",
              "      <td>I loved it</td>\n",
              "      <td>9</td>\n",
              "    </tr>\n",
              "  </tbody>\n",
              "</table>\n",
              "</div>"
            ],
            "text/plain": [
              "   polarity                              sentence  sentiment\n",
              "0         1                     I liked the movie          8\n",
              "1         0                      I hate the movie          1\n",
              "2         1  I like the movie but I hate the book          6\n",
              "3         1                 I dont like the book           7\n",
              "4         1                            I loved it          9"
            ]
          },
          "metadata": {
            "tags": []
          },
          "execution_count": 6
        }
      ]
    },
    {
      "metadata": {
        "id": "xDnuYW2K2y0n",
        "colab_type": "code",
        "colab": {
          "base_uri": "https://localhost:8080/",
          "height": 34
        },
        "outputId": "864c6ff1-8d81-4783-a776-cd4be45448ff"
      },
      "cell_type": "code",
      "source": [
        "print(\"test\")"
      ],
      "execution_count": 1,
      "outputs": [
        {
          "output_type": "stream",
          "text": [
            "test\n"
          ],
          "name": "stdout"
        }
      ]
    },
    {
      "metadata": {
        "id": "8gEn8ell3f0m",
        "colab_type": "code",
        "colab": {
          "base_uri": "https://localhost:8080/",
          "height": 361
        },
        "outputId": "b0d08ea3-756a-46c3-822a-776f7e2706ca"
      },
      "cell_type": "code",
      "source": [
        "# Visualization----------------------------------------------------------------\n",
        "# confusion matrix: \n",
        "def get_predictions(estimator, input_fn):\n",
        "  return [x[\"class_ids\"][0] for x in estimator.predict(input_fn=input_fn)]\n",
        "\n",
        "LABELS = [\n",
        "    \"negative\", \"positive\"\n",
        "]\n",
        "\n",
        "# Create a confusion matrix on training data.\n",
        "with tf.Graph().as_default():\n",
        "  cm = tf.confusion_matrix(train_df[\"polarity\"], \n",
        "                           get_predictions(estimator, predict_train_input_fn))\n",
        "  with tf.Session() as session:\n",
        "    cm_out = session.run(cm)\n",
        "\n",
        "# Normalize the confusion matrix so that each row sums to 1.\n",
        "cm_out = cm_out.astype(float) / cm_out.sum(axis=1)[:, np.newaxis]\n",
        "\n",
        "sns.heatmap(cm_out, annot=True, xticklabels=LABELS, yticklabels=LABELS);\n",
        "plt.xlabel(\"Predicted\");\n",
        "plt.ylabel(\"True\");\n",
        "\n",
        "\n"
      ],
      "execution_count": 4,
      "outputs": [
        {
          "output_type": "display_data",
          "data": {
            "image/png": "[encoded data removed]",
            "text/plain": [
              "<matplotlib.figure.Figure at 0x7f18ede7a4e0>"
            ]
          },
          "metadata": {
            "tags": []
          }
        }
      ]
    },
    {
      "metadata": {
        "id": "e93pd86t3f-u",
        "colab_type": "code",
        "colab": {}
      },
      "cell_type": "code",
      "source": [
        ""
      ],
      "execution_count": 0,
      "outputs": []
    },
    {
      "metadata": {
        "id": "uSvIXi-i3gBm",
        "colab_type": "code",
        "colab": {}
      },
      "cell_type": "code",
      "source": [
        ""
      ],
      "execution_count": 0,
      "outputs": []
    },
    {
      "metadata": {
        "id": "iJ8RXXbQ3gEX",
        "colab_type": "code",
        "colab": {}
      },
      "cell_type": "code",
      "source": [
        ""
      ],
      "execution_count": 0,
      "outputs": []
    }
  ]
}