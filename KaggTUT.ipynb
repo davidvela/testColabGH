{
  "nbformat": 4,
  "nbformat_minor": 0,
  "metadata": {
    "colab": {
      "name": "KaggTUT.ipynb",
      "version": "0.3.2",
      "provenance": [],
      "collapsed_sections": [
        "BvQD1LEDv9tZ",
        "ToNco1nn19Ms"
      ],
      "include_colab_link": true
    },
    "kernelspec": {
      "name": "python3",
      "display_name": "Python 3"
    },
    "accelerator": "GPU"
  },
  "cells": [
    {
      "cell_type": "markdown",
      "metadata": {
        "id": "view-in-github",
        "colab_type": "text"
      },
      "source": [
        "[View in Colaboratory](https://colab.research.google.com/github/davidvela/testColabGH/blob/master/KaggTUT.ipynb)"
      ]
    },
    {
      "metadata": {
        "id": "pQGgihBntm7a",
        "colab_type": "text"
      },
      "cell_type": "markdown",
      "source": [
        "# KAGGLE TUT\n",
        "https://www.kaggle.com/learn/deep-learning\n",
        "\n",
        "**created: 20.08.2018**\n",
        "\n",
        "Dan Becker - Data Scientist\n",
        "Dan has done data science consulting for 6 companies in the Fortune 100 and contributed to the Keras library for deep learning. He has a PhD in Econometrics.\n",
        "\n",
        "I need to download the utils locally and run it ... or load the models in Colab. "
      ]
    },
    {
      "metadata": {
        "id": "sbmzz8D1v2lo",
        "colab_type": "text"
      },
      "cell_type": "markdown",
      "source": [
        "# Intro - dog pred. \n",
        "https://www.kaggle.com/dansbecker/programming-in-tensorflow-and-keras/notebook "
      ]
    },
    {
      "metadata": {
        "id": "APYFPIFNuw0s",
        "colab_type": "code",
        "colab": {}
      },
      "cell_type": "code",
      "source": [
        "# Imports: \n",
        "# 1 read data \n",
        "from os.path import join\n",
        "\n",
        "# 2 pre-processing\n",
        "import numpy as np\n",
        "from tensorflow.python.keras.applications.resnet50 import preprocess_input\n",
        "from tensorflow.python.keras.preprocessing.image import load_img, img_to_array\n",
        "\n",
        "# 3 model \n",
        "from tensorflow.python.keras.applications import ResNet50\n",
        "\n",
        "# 4 vis\n",
        "import sys\n",
        "from decode_predictions import decode_predictions\n",
        "from IPython.display import Image, display\n",
        "import json\n"
      ],
      "execution_count": 0,
      "outputs": []
    },
    {
      "metadata": {
        "id": "myqKXQhVzuq0",
        "colab_type": "code",
        "colab": {}
      },
      "cell_type": "code",
      "source": [
        "class_dir = '../input/resnet50/imagenet_class_index.json'\n",
        "utils_dir = '/kaggle/input/python-utility-code-for-deep-learning-exercises/utils'\n",
        "image_dir = '../input/dog-breed-identification/train/'\n",
        "model_weights = '../input/resnet50/resnet50_weights_tf_dim_ordering_tf_kernels.h5'"
      ],
      "execution_count": 0,
      "outputs": []
    },
    {
      "metadata": {
        "id": "JMEZ4ajDtmAM",
        "colab_type": "code",
        "colab": {}
      },
      "cell_type": "code",
      "source": [
        "# read the data ... (dog images)\n",
        "img_paths = [join(image_dir, filename) for filename in \n",
        "                           ['0246f44bb123ce3f91c939861eb97fb7.jpg',\n",
        "                            '84728e78632c0910a69d33f82e62638c.jpg',\n",
        "                            '8825e914555803f4c67b26593c9d5aff.jpg',\n",
        "                            '91a5e8db15bccfb6cfa2df5e8b95ec03.jpg']]\n"
      ],
      "execution_count": 0,
      "outputs": []
    },
    {
      "metadata": {
        "id": "mEdiiDDOtrex",
        "colab_type": "code",
        "colab": {}
      },
      "cell_type": "code",
      "source": [
        "# Function to read and prep images\n",
        "image_size = 224\n",
        "def read_and_prep_images(img_paths, img_height=image_size, img_width=image_size):\n",
        "    imgs = [load_img(img_path, target_size=(img_height, img_width)) for img_path in img_paths]\n",
        "    img_array = np.array([img_to_array(img) for img in imgs])\n",
        "    return preprocess_input(img_array)"
      ],
      "execution_count": 0,
      "outputs": []
    },
    {
      "metadata": {
        "id": "PGSxglVFuqe0",
        "colab_type": "code",
        "colab": {}
      },
      "cell_type": "code",
      "source": [
        "# 3 create model \n",
        "my_model = ResNet50(weights=model_weights)\n",
        "\n",
        "test_data = read_and_prep_images(img_paths)\n",
        "preds = my_model.predict(test_data)"
      ],
      "execution_count": 0,
      "outputs": []
    },
    {
      "metadata": {
        "id": "qQRhRugnzqiV",
        "colab_type": "code",
        "colab": {}
      },
      "cell_type": "code",
      "source": [
        "\n",
        "def decode_predictions(preds, top=5, class_list_path=None):\n",
        "  \"\"\"Decodes the prediction of an ImageNet model.\n",
        "  Arguments:\n",
        "      preds: Numpy tensor encoding a batch of predictions.\n",
        "      top: integer, how many top-guesses to return.\n",
        "      class_list_path: Path to the canonical imagenet_class_index.json file\n",
        "  Returns:\n",
        "      A list of lists of top class prediction tuples\n",
        "      `(class_name, class_description, score)`.\n",
        "      One list of tuples per sample in batch input.\n",
        "  Raises:\n",
        "      ValueError: in case of invalid shape of the `pred` array\n",
        "          (must be 2D).\n",
        "  \"\"\"\n",
        "  if len(preds.shape) != 2 or preds.shape[1] != 1000:\n",
        "    raise ValueError('`decode_predictions` expects '\n",
        "                     'a batch of predictions '\n",
        "                     '(i.e. a 2D array of shape (samples, 1000)). '\n",
        "                     'Found array with shape: ' + str(preds.shape))\n",
        "  CLASS_INDEX = json.load(open(class_list_path))\n",
        "  results = []\n",
        "  for pred in preds:\n",
        "    top_indices = pred.argsort()[-top:][::-1]\n",
        "    result = [tuple(CLASS_INDEX[str(i)]) + (pred[i],) for i in top_indices]\n",
        "    result.sort(key=lambda x: x[2], reverse=True)\n",
        "    results.append(result)\n",
        "  return results\n"
      ],
      "execution_count": 0,
      "outputs": []
    },
    {
      "metadata": {
        "id": "8kQE4aeBurO7",
        "colab_type": "code",
        "colab": {}
      },
      "cell_type": "code",
      "source": [
        "# visualize predictions \n",
        "\n",
        "# Add directory holding utility functions to path to allow importing\n",
        "sys.path.append(utils_dir)\n",
        "\n",
        "most_likely_labels = decode_predictions(preds, top=3, class_list_path=class_dir)\n",
        "\n",
        "for i, img_path in enumerate(img_paths):\n",
        "    display(Image(img_path))\n",
        "    print(most_likely_labels[i])"
      ],
      "execution_count": 0,
      "outputs": []
    },
    {
      "metadata": {
        "id": "hG7FRkELurRK",
        "colab_type": "code",
        "colab": {}
      },
      "cell_type": "code",
      "source": [
        ""
      ],
      "execution_count": 0,
      "outputs": []
    },
    {
      "metadata": {
        "id": "wmd1-kinurUT",
        "colab_type": "code",
        "colab": {}
      },
      "cell_type": "code",
      "source": [
        ""
      ],
      "execution_count": 0,
      "outputs": []
    },
    {
      "metadata": {
        "id": "BvQD1LEDv9tZ",
        "colab_type": "text"
      },
      "cell_type": "markdown",
      "source": [
        "# Transfer Learning\n"
      ]
    },
    {
      "metadata": {
        "id": "wQ_973Y30th4",
        "colab_type": "code",
        "colab": {}
      },
      "cell_type": "code",
      "source": [
        "pass\n",
        "\n",
        "# 1 - model specification \n",
        "from tensorflow.python.keras.applications import ResNet50\n",
        "from tensorflow.python.keras.models import Sequential\n",
        "from tensorflow.python.keras.layers import Dense, Flatten, GlobalAveragePooling2D\n",
        "\n",
        "num_classes = 2\n",
        "resnet_weights_path = '../input/resnet50/resnet50_weights_tf_dim_ordering_tf_kernels_notop.h5'\n",
        "\n",
        "my_new_model = Sequential()\n",
        "my_new_model.add(ResNet50(include_top=False, pooling='avg', weights=resnet_weights_path))\n",
        "my_new_model.add(Dense(num_classes, activation='softmax'))\n",
        "\n",
        "# Say not to train first layer (ResNet) model. It is already trained\n",
        "my_new_model.layers[0].trainable = False\n",
        "\n",
        "# 2 - compile model: \n",
        "my_new_model.compile(optimizer='sgd', loss='categorical_crossentropy', metrics=['accuracy'])\n",
        "\n",
        "# 3 - fit model: \n",
        "from tensorflow.python.keras.applications.resnet50 import preprocess_input\n",
        "from tensorflow.python.keras.preprocessing.image import ImageDataGenerator\n",
        "\n",
        "image_size = 224\n",
        "data_generator = ImageDataGenerator(preprocessing_function=preprocess_input)\n",
        "\n",
        "\n",
        "train_generator = data_generator.flow_from_directory(\n",
        "        '../input/urban-and-rural-photos/rural_and_urban_photos/train',\n",
        "        target_size=(image_size, image_size),\n",
        "        batch_size=24,\n",
        "        class_mode='categorical')\n",
        "\n",
        "validation_generator = data_generator.flow_from_directory(\n",
        "        '../input/urban-and-rural-photos/rural_and_urban_photos/val',\n",
        "        target_size=(image_size, image_size),\n",
        "        class_mode='categorical')\n",
        "\n",
        "my_new_model.fit_generator(\n",
        "        train_generator,\n",
        "        steps_per_epoch=3,\n",
        "        validation_data=validation_generator,\n",
        "        validation_steps=1)\n",
        "\n",
        "# output\n",
        "# Found 72 images belonging to 2 classes.\n",
        "# Found 20 images belonging to 2 classes.\n",
        "# Epoch 1/1\n",
        "# 3/3 [==============================] - 29s 10s/step - loss: 0.5130 - acc: 0.8056 - val_loss: 0.3568 - val_acc: 0.9000\n",
        "# <tensorflow.python.keras._impl.keras.callbacks.History at 0x7f9f5bc56a20>"
      ],
      "execution_count": 0,
      "outputs": []
    },
    {
      "metadata": {
        "id": "HFG_xGCS1lvd",
        "colab_type": "text"
      },
      "cell_type": "markdown",
      "source": [
        "# Data Augmentation \n",
        "+ Apply data augmentation\n",
        "\n",
        "\n",
        "# Deeper understanding of DL "
      ]
    },
    {
      "metadata": {
        "id": "99fm5CZu1JZw",
        "colab_type": "code",
        "colab": {}
      },
      "cell_type": "code",
      "source": [
        ""
      ],
      "execution_count": 0,
      "outputs": []
    },
    {
      "metadata": {
        "id": "ToNco1nn19Ms",
        "colab_type": "text"
      },
      "cell_type": "markdown",
      "source": [
        "# From Scratch...  - Digit Recognizer... "
      ]
    },
    {
      "metadata": {
        "id": "CesjbJy01-ls",
        "colab_type": "code",
        "colab": {}
      },
      "cell_type": "code",
      "source": [
        "import numpy as np\n",
        "import pandas as pd\n",
        "from sklearn.model_selection import train_test_split\n",
        "from tensorflow.python import keras\n",
        "from tensorflow.python.keras.models import Sequential\n",
        "from tensorflow.python.keras.layers import Dense, Flatten, Conv2D, Dropout\n",
        "\n",
        "\n",
        "img_rows, img_cols = 28, 28\n",
        "num_classes = 10\n",
        "\n",
        "def data_prep(raw):\n",
        "    out_y = keras.utils.to_categorical(raw.label, num_classes)\n",
        "\n",
        "    num_images = raw.shape[0]\n",
        "    x_as_array = raw.values[:,1:]\n",
        "    x_shaped_array = x_as_array.reshape(num_images, img_rows, img_cols, 1)\n",
        "    out_x = x_shaped_array / 255\n",
        "    return out_x, out_y\n",
        "\n",
        "train_file = \"../input/digit-recognizer/train.csv\"\n",
        "raw_data = pd.read_csv(train_file)\n",
        "\n",
        "x, y = data_prep(raw_data)\n",
        "\n",
        "model = Sequential()\n",
        "model.add(Conv2D(20, kernel_size=(3, 3),\n",
        "                 activation='relu',\n",
        "                 input_shape=(img_rows, img_cols, 1)))\n",
        "model.add(Conv2D(20, kernel_size=(3, 3), activation='relu'))\n",
        "model.add(Flatten())\n",
        "model.add(Dense(128, activation='relu'))\n",
        "model.add(Dense(num_classes, activation='softmax'))\n",
        "\n",
        "model.compile(loss=keras.losses.categorical_crossentropy,\n",
        "              optimizer='adam',\n",
        "              metrics=['accuracy'])\n",
        "model.fit(x, y,\n",
        "          batch_size=128,\n",
        "          epochs=2,\n",
        "          validation_split = 0.2)\n",
        "\n",
        "# /opt/conda/lib/python3.6/site-packages/h5py/__init__.py:36: FutureWarning: Conversion of the second argument of issubdtype from `float` to `np.floating` is deprecated. In future, it will be treated as `np.float64 == np.dtype(float).type`.\n",
        "#   from ._conv import register_converters as _register_converters\n",
        "# Train on 33600 samples, validate on 8400 samples\n",
        "# Epoch 1/2\n",
        "# 33600/33600 [==============================] - 56s 2ms/step - loss: 0.2454 - acc: 0.9292 - val_loss: 0.0823 - val_acc: 0.9749\n",
        "# Epoch 2/2\n",
        "# 33600/33600 [==============================] - 58s 2ms/step - loss: 0.0650 - acc: 0.9810 - val_loss: 0.0590 - val_acc: 0.9820\n",
        "# <tensorflow.python.keras._impl.keras.callbacks.History at 0x7fa843394978>"
      ],
      "execution_count": 0,
      "outputs": []
    },
    {
      "metadata": {
        "id": "Zfxw_iYF2aHd",
        "colab_type": "text"
      },
      "cell_type": "markdown",
      "source": [
        "# strides and dropout"
      ]
    },
    {
      "metadata": {
        "id": "WMxjrItY2h9O",
        "colab_type": "code",
        "colab": {}
      },
      "cell_type": "code",
      "source": [
        "import numpy as np\n",
        "import pandas as pd\n",
        "from sklearn.model_selection import train_test_split\n",
        "from tensorflow.python import keras\n",
        "from tensorflow.python.keras.models import Sequential\n",
        "from tensorflow.python.keras.layers import Dense, Flatten, Conv2D, Dropout\n",
        "\n",
        "img_rows, img_cols = 28, 28\n",
        "num_classes = 10\n",
        "\n",
        "def data_prep(raw):\n",
        "    out_y = keras.utils.to_categorical(raw.label, num_classes)\n",
        "\n",
        "    num_images = raw.shape[0]\n",
        "    x_as_array = raw.values[:,1:]\n",
        "    x_shaped_array = x_as_array.reshape(num_images, img_rows, img_cols, 1)\n",
        "    out_x = x_shaped_array / 255\n",
        "    return out_x, out_y\n",
        "\n",
        "train_size = 30000\n",
        "train_file = \"../input/digit-recognizer/train.csv\"\n",
        "raw_data = pd.read_csv(train_file)\n",
        "\n",
        "x, y = data_prep(raw_data)\n",
        "\n",
        "model = Sequential()\n",
        "model.add(Conv2D(30, kernel_size=(3, 3),\n",
        "                 strides=2,\n",
        "                 activation='relu',\n",
        "                 input_shape=(img_rows, img_cols, 1)))\n",
        "model.add(Dropout(0.5))\n",
        "model.add(Conv2D(30, kernel_size=(3, 3), strides=2, activation='relu'))\n",
        "model.add(Dropout(0.5))\n",
        "model.add(Flatten())\n",
        "model.add(Dense(128, activation='relu'))\n",
        "model.add(Dense(num_classes, activation='softmax'))\n",
        "\n",
        "model.compile(loss=keras.losses.categorical_crossentropy,\n",
        "              optimizer='adam',\n",
        "              metrics=['accuracy'])\n",
        "model.fit(x, y,\n",
        "          batch_size=128,\n",
        "          epochs=2,\n",
        "          validation_split = 0.2)\n",
        "# /opt/conda/lib/python3.6/site-packages/h5py/__init__.py:36: FutureWarning: Conversion of the second argument of issubdtype from `float` to `np.floating` is deprecated. In future, it will be treated as `np.float64 == np.dtype(float).type`.\n",
        "#   from ._conv import register_converters as _register_converters\n",
        "# Train on 33600 samples, validate on 8400 samples\n",
        "# Epoch 1/2\n",
        "# 33600/33600 [==============================] - 14s 408us/step - loss: 0.6243 - acc: 0.8026 - val_loss: 0.2235 - val_acc: 0.9354\n",
        "# Epoch 2/2\n",
        "# 33600/33600 [==============================] - 14s 417us/step - loss: 0.2664 - acc: 0.9176 - val_loss: 0.1315 - val_acc: 0.9630"
      ],
      "execution_count": 0,
      "outputs": []
    },
    {
      "metadata": {
        "id": "VKwB82sy2V6e",
        "colab_type": "text"
      },
      "cell_type": "markdown",
      "source": [
        "# .END"
      ]
    },
    {
      "metadata": {
        "id": "0pDEp4Cw2XJ8",
        "colab_type": "code",
        "colab": {}
      },
      "cell_type": "code",
      "source": [
        ""
      ],
      "execution_count": 0,
      "outputs": []
    }
  ]
}