{
  "nbformat": 4,
  "nbformat_minor": 0,
  "metadata": {
    "colab": {
      "name": "test.ipynb",
      "version": "0.3.2",
      "provenance": [],
      "collapsed_sections": [
        "A06r4oLNZwPz",
        "-Y1_RBNMso6E"
      ],
      "include_colab_link": true
    },
    "kernelspec": {
      "name": "python3",
      "display_name": "Python 3"
    },
    "accelerator": "GPU"
  },
  "cells": [
    {
      "cell_type": "markdown",
      "metadata": {
        "id": "view-in-github",
        "colab_type": "text"
      },
      "source": [
        "[View in Colaboratory](https://colab.research.google.com/github/davidvela/testColabGH/blob/master/test.ipynb)"
      ]
    },
    {
      "metadata": {
        "id": "5u6KdkpiZVId",
        "colab_type": "text"
      },
      "cell_type": "markdown",
      "source": [
        "# Tensorflow learning \n",
        "\n",
        "* Transfer Learning \n",
        "  * Object recognition -> API and models \n",
        "    * scavengerhunt.withgoogle.com\n",
        "    * models: \n",
        "      * Mobilenet,  Yolo ...  https://medium.com/nanonets/how-to-automate-surveillance-easily-with-deep-learning-4eb4fa0cd68d\n",
        "  * **Music - Magenta Project** \n",
        "    * new CH songs \n",
        "    * new sounds ... \n",
        "* Reinforcement Learning \n",
        "  * Games: \n",
        "      * AlphaGo ... \n",
        "      * Tic Tac Toe (3 en raya)\n",
        "      * Connect 4 (4 en raya)\n",
        "      * Gomoku (5 in a row) (5 en raya)\n",
        "  * Three on a row \n",
        "  * learning : \n",
        "    * Q-Learning \n",
        "    * CNN \n",
        "    * tensorflow.js\n",
        " \n",
        " * JC - ATM error detection ML -> NN \n",
        "    * execute locally\n",
        " \n",
        " \n"
      ]
    },
    {
      "metadata": {
        "id": "oLToyYBcZSwi",
        "colab_type": "code",
        "colab": {
          "base_uri": "https://localhost:8080/",
          "height": 51
        },
        "outputId": "ca74fb53-20f9-45bd-f960-bc7e4d4fc6d7"
      },
      "cell_type": "code",
      "source": [
        "# 20180801 - reinforcement learning \n",
        "# 20180801 - inn. talk -> image, nn, NLP... chatbot,  \n",
        "from distutils.version import LooseVersion\n",
        "import warnings\n",
        "import tensorflow as tf\n",
        "\n",
        "# Check TensorFlow Version\n",
        "assert LooseVersion(tf.__version__) >= LooseVersion('1.0'), 'Please use TensorFlow version 1.0 or newer'\n",
        "print('TensorFlow Version: {}'.format(tf.__version__))\n",
        "\n",
        "# Check for a GPU\n",
        "if not tf.test.gpu_device_name():\n",
        "    warnings.warn('No GPU found. Please use a GPU to train your neural network.')\n",
        "else:\n",
        "    print('Default GPU Device: {}'.format(tf.test.gpu_device_name()))\n",
        "\n"
      ],
      "execution_count": 4,
      "outputs": [
        {
          "output_type": "stream",
          "text": [
            "TensorFlow Version: 1.9.0\n",
            "Default GPU Device: /device:GPU:0\n"
          ],
          "name": "stdout"
        }
      ]
    },
    {
      "metadata": {
        "id": "Fkxj1oU0IhEu",
        "colab_type": "code",
        "colab": {}
      },
      "cell_type": "code",
      "source": [
        ""
      ],
      "execution_count": 0,
      "outputs": []
    },
    {
      "metadata": {
        "id": "1A8fkPw0IhHD",
        "colab_type": "code",
        "colab": {}
      },
      "cell_type": "code",
      "source": [
        ""
      ],
      "execution_count": 0,
      "outputs": []
    },
    {
      "metadata": {
        "id": "4oTf6FjUIhJR",
        "colab_type": "code",
        "colab": {
          "base_uri": "https://localhost:8080/",
          "height": 34
        },
        "outputId": "69b1758e-2121-4e34-bde1-707fb2c09fbb"
      },
      "cell_type": "code",
      "source": [
        "print(\"hello\")"
      ],
      "execution_count": 1,
      "outputs": [
        {
          "output_type": "stream",
          "text": [
            "hello\n"
          ],
          "name": "stdout"
        }
      ]
    },
    {
      "metadata": {
        "id": "IAViBupwIhsw",
        "colab_type": "text"
      },
      "cell_type": "markdown",
      "source": [
        "# Reinforcement Learning"
      ]
    },
    {
      "metadata": {
        "id": "A06r4oLNZwPz",
        "colab_type": "text"
      },
      "cell_type": "markdown",
      "source": [
        "## TIC TAC TOE - BASIC"
      ]
    },
    {
      "metadata": {
        "id": "ZAnUg7qzIhLd",
        "colab_type": "code",
        "colab": {
          "base_uri": "https://localhost:8080/",
          "height": 68
        },
        "outputId": "f2bad9dc-8869-4f2a-95ce-00505f4c3c03"
      },
      "cell_type": "code",
      "source": [
        "# tic tac toe game: \n",
        "\"\"\"tictactoe game for 2 players\n",
        "from blogpost: http://thebillington.co.uk/blog/posts/writing-a-tic-tac-toe-game-in-python by  BILLY REBECCHI,\n",
        "slightly improved by Horst JENS\"\"\"\n",
        "import os\n",
        "\n",
        "choices = []\n",
        "for x in range (0, 9) :\n",
        "    choices.append(str(x + 1))\n",
        "\n",
        "playerOneTurn = True; winner = False\n",
        "\n",
        "def printBoard() :\n",
        "    # os.system('cls') # windows\n",
        "    os.system('clear') # linux / mac\n",
        "\n",
        "    print( '\\n -----')\n",
        "    print( '|' + choices[0] + '|' + choices[1] + '|' + choices[2] + '|')\n",
        "    print( ' -----')\n",
        "    print( '|' + choices[3] + '|' + choices[4] + '|' + choices[5] + '|')\n",
        "    print( ' -----')\n",
        "    print( '|' + choices[6] + '|' + choices[7] + '|' + choices[8] + '|')\n",
        "    print( ' -----\\n')\n",
        "\n",
        "winner = True\n",
        "print(\"reset\")\n",
        "while not winner :\n",
        "    printBoard()\n",
        "\n",
        "    if playerOneTurn :\n",
        "        print( \"Player 1:\")\n",
        "    else :\n",
        "        print( \"Player 2:\")\n",
        "\n",
        "    try:\n",
        "        choice = input(\">> \")\n",
        "        if choice == 'exit':\n",
        "          winner = True\n",
        "          continue\n",
        "        else:\n",
        "          choice = int(choice)\n",
        "    except:\n",
        "        print(\"please enter a valid field\")\n",
        "        continue\n",
        "    if choices[choice - 1] == 'X' or choices [choice-1] == 'O':\n",
        "        print(\"illegal move, plase try again\")\n",
        "        continue\n",
        "\n",
        "    if playerOneTurn :\n",
        "        choices[choice - 1] = 'X'\n",
        "    else :\n",
        "        choices[choice - 1] = 'O'\n",
        "\n",
        "    playerOneTurn = not playerOneTurn\n",
        "\n",
        "    for x in range (0, 3) :\n",
        "        y = x * 3\n",
        "        if (choices[y] == choices[(y + 1)] and choices[y] == choices[(y + 2)]) :\n",
        "            winner = True\n",
        "            printBoard()\n",
        "        if (choices[x] == choices[(x + 3)] and choices[x] == choices[(x + 6)]) :\n",
        "            winner = True\n",
        "            printBoard()\n",
        "\n",
        "    if((choices[0] == choices[4] and choices[0] == choices[8]) or \n",
        "       (choices[2] == choices[4] and choices[4] == choices[6])) :\n",
        "        winner = True\n",
        "        printBoard()\n",
        "\n",
        "print (\"Player \" + str(int(playerOneTurn + 1)) + \" wins!\\n\")"
      ],
      "execution_count": 2,
      "outputs": [
        {
          "output_type": "stream",
          "text": [
            "reset\n",
            "Player 2 wins!\n",
            "\n"
          ],
          "name": "stdout"
        }
      ]
    },
    {
      "metadata": {
        "id": "yFr3pKGpZ0Qd",
        "colab_type": "text"
      },
      "cell_type": "markdown",
      "source": [
        "## Q Learn"
      ]
    },
    {
      "metadata": {
        "id": "ZZYYLI7YLENj",
        "colab_type": "code",
        "colab": {}
      },
      "cell_type": "code",
      "source": [
        ""
      ],
      "execution_count": 0,
      "outputs": []
    },
    {
      "metadata": {
        "id": "y3ZJ8pbErsb7",
        "colab_type": "text"
      },
      "cell_type": "markdown",
      "source": [
        "## RES NET\n"
      ]
    },
    {
      "metadata": {
        "id": "r6uN0P6Arsb-",
        "colab_type": "code",
        "colab": {}
      },
      "cell_type": "code",
      "source": [
        ""
      ],
      "execution_count": 0,
      "outputs": []
    },
    {
      "metadata": {
        "id": "boJku1bmr1uV",
        "colab_type": "text"
      },
      "cell_type": "markdown",
      "source": [
        "## MONTECARLO"
      ]
    },
    {
      "metadata": {
        "id": "9zwVcPXmr1uX",
        "colab_type": "code",
        "colab": {}
      },
      "cell_type": "code",
      "source": [
        ""
      ],
      "execution_count": 0,
      "outputs": []
    },
    {
      "metadata": {
        "id": "-Y1_RBNMso6E",
        "colab_type": "text"
      },
      "cell_type": "markdown",
      "source": [
        "## FROZEN LAKE \n",
        "https://gym.openai.com/envs/FrozenLake-v0/<br>\n",
        "<a href = https://gist.github.com/awjuliani/4d69edad4d0ed9a5884f3cdcf0ea0874#file-q-net-learning-clean-ipynb>github</a> <br>\n",
        "<a href= https://medium.com/emergent-future/simple-reinforcement-learning-with-tensorflow-part-0-q-learning-with-tables-and-neural-networks-d195264329d0>medium</a>\n"
      ]
    },
    {
      "metadata": {
        "id": "MnHJjaBCso6F",
        "colab_type": "code",
        "colab": {}
      },
      "cell_type": "code",
      "source": [
        "# import gym # I need to install gym! \n",
        "import numpy as np\n",
        "import random\n",
        "import tensorflow as tf\n",
        "import matplotlib.pyplot as plt\n",
        "%matplotlib inline\n",
        "\n",
        "# load environment\n",
        "# env = gym.make('FrozenLake-v0')\n"
      ],
      "execution_count": 0,
      "outputs": []
    },
    {
      "metadata": {
        "id": "X4bJMVE2tjbo",
        "colab_type": "text"
      },
      "cell_type": "markdown",
      "source": [
        "## ..."
      ]
    },
    {
      "metadata": {
        "id": "T2IoyHyPtjbp",
        "colab_type": "code",
        "colab": {}
      },
      "cell_type": "code",
      "source": [
        ""
      ],
      "execution_count": 0,
      "outputs": []
    },
    {
      "metadata": {
        "id": "abREgFz8tYxd",
        "colab_type": "code",
        "colab": {}
      },
      "cell_type": "code",
      "source": [
        ""
      ],
      "execution_count": 0,
      "outputs": []
    }
  ]
}