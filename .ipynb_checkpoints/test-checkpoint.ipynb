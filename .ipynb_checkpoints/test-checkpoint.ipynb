{
 "cells": [
  {
   "cell_type": "code",
   "execution_count": 3,
   "metadata": {
    "colab_type": "text",
    "id": "view-in-github"
   },
   "outputs": [],
   "source": [
    "# [View in Colaboratory](https://colab.research.google.com/github/davidvela/testColabGH/blob/master/test.ipynb)"
   ]
  },
  {
   "cell_type": "markdown",
   "metadata": {
    "colab_type": "text",
    "id": "5u6KdkpiZVId"
   },
   "source": [
    "# Tensorflow learning \n",
    "\n",
    "* Transfer Learning \n",
    "  * Object recognition -> API and models \n",
    "    * scavengerhunt.withgoogle.com\n",
    "    * models: \n",
    "      * Mobilenet \n",
    "      * Yolo \n",
    "      * \n",
    "  * **Music - Magenta Project** \n",
    "    * new CH songs \n",
    "    * new sounds ... \n",
    "* Reinforcement Learning \n",
    "  * Games: \n",
    "      * AlphaGo ... \n",
    "      * Tic Tac Toe (3 en raya)\n",
    "      * Connect 4 (4 en raya)\n",
    "      * Gomoku (5 in a row) (5 en raya)\n",
    "  * Three on a row \n",
    "  * learning : \n",
    "    * Q-Learning \n",
    "    * CNN \n",
    "    * tensorflow.js\n",
    " \n",
    " * JC - ATM error detection ML -> NN \n",
    "    * execute locally\n",
    " \n",
    " \n"
   ]
  },
  {
   "cell_type": "code",
   "execution_count": 0,
   "metadata": {
    "colab": {},
    "colab_type": "code",
    "id": "oLToyYBcZSwi"
   },
   "outputs": [],
   "source": [
    "# 20180801 - reinforcement learning \n",
    "# 20180801 - inn. talk -> image, nn, NLP... chatbot,  \n",
    "\n",
    "# start ... \n",
    "\n",
    "\n"
   ]
  },
  {
   "cell_type": "code",
   "execution_count": 0,
   "metadata": {
    "colab": {},
    "colab_type": "code",
    "id": "Fkxj1oU0IhEu"
   },
   "outputs": [],
   "source": []
  },
  {
   "cell_type": "code",
   "execution_count": 0,
   "metadata": {
    "colab": {},
    "colab_type": "code",
    "id": "1A8fkPw0IhHD"
   },
   "outputs": [],
   "source": []
  },
  {
   "cell_type": "code",
   "execution_count": 0,
   "metadata": {
    "colab": {},
    "colab_type": "code",
    "id": "4oTf6FjUIhJR"
   },
   "outputs": [],
   "source": [
    "print(\"hello\")"
   ]
  },
  {
   "cell_type": "markdown",
   "metadata": {
    "colab_type": "text",
    "id": "IAViBupwIhsw"
   },
   "source": [
    "# Reinforcement Learning"
   ]
  },
  {
   "cell_type": "code",
   "execution_count": 2,
   "metadata": {
    "colab": {},
    "colab_type": "code",
    "id": "ZAnUg7qzIhLd"
   },
   "outputs": [
    {
     "name": "stdout",
     "output_type": "stream",
     "text": [
      "\n",
      " -----\n",
      "|1|2|3|\n",
      " -----\n",
      "|4|5|6|\n",
      " -----\n",
      "|7|8|9|\n",
      " -----\n",
      "\n",
      "Player 1:\n",
      ">> 1\n",
      "\n",
      " -----\n",
      "|X|2|3|\n",
      " -----\n",
      "|4|5|6|\n",
      " -----\n",
      "|7|8|9|\n",
      " -----\n",
      "\n",
      "Player 2:\n",
      ">> 2\n",
      "\n",
      " -----\n",
      "|X|O|3|\n",
      " -----\n",
      "|4|5|6|\n",
      " -----\n",
      "|7|8|9|\n",
      " -----\n",
      "\n",
      "Player 1:\n",
      ">> exit\n",
      "Player 2 wins!\n",
      "\n"
     ]
    }
   ],
   "source": [
    "# tic tac toe game: \n",
    "\"\"\"tictactoe game for 2 players\n",
    "from blogpost: http://thebillington.co.uk/blog/posts/writing-a-tic-tac-toe-game-in-python by  BILLY REBECCHI,\n",
    "slightly improved by Horst JENS\"\"\"\n",
    "import os\n",
    "\n",
    "choices = []\n",
    "for x in range (0, 9) :\n",
    "    choices.append(str(x + 1))\n",
    "\n",
    "playerOneTurn = True; winner = False\n",
    "\n",
    "def printBoard() :\n",
    "    # os.system('cls') # windows\n",
    "    os.system('clear') # linux / mac\n",
    "\n",
    "    print( '\\n -----')\n",
    "    print( '|' + choices[0] + '|' + choices[1] + '|' + choices[2] + '|')\n",
    "    print( ' -----')\n",
    "    print( '|' + choices[3] + '|' + choices[4] + '|' + choices[5] + '|')\n",
    "    print( ' -----')\n",
    "    print( '|' + choices[6] + '|' + choices[7] + '|' + choices[8] + '|')\n",
    "    print( ' -----\\n')\n",
    "\n",
    "# winner = True\n",
    "# print(\"reset\")\n",
    "while not winner :\n",
    "    printBoard()\n",
    "\n",
    "    if playerOneTurn :\n",
    "        print( \"Player 1:\")\n",
    "    else :\n",
    "        print( \"Player 2:\")\n",
    "\n",
    "    try:\n",
    "        choice = input(\">> \")\n",
    "        if choice == 'exit':\n",
    "          winner = True\n",
    "          continue\n",
    "        else:\n",
    "          choice = int(choice)\n",
    "    except:\n",
    "        print(\"please enter a valid field\")\n",
    "        continue\n",
    "    if choices[choice - 1] == 'X' or choices [choice-1] == 'O':\n",
    "        print(\"illegal move, plase try again\")\n",
    "        continue\n",
    "\n",
    "    if playerOneTurn :\n",
    "        choices[choice - 1] = 'X'\n",
    "    else :\n",
    "        choices[choice - 1] = 'O'\n",
    "\n",
    "    playerOneTurn = not playerOneTurn\n",
    "\n",
    "    for x in range (0, 3) :\n",
    "        y = x * 3\n",
    "        if (choices[y] == choices[(y + 1)] and choices[y] == choices[(y + 2)]) :\n",
    "            winner = True\n",
    "            printBoard()\n",
    "        if (choices[x] == choices[(x + 3)] and choices[x] == choices[(x + 6)]) :\n",
    "            winner = True\n",
    "            printBoard()\n",
    "\n",
    "    if((choices[0] == choices[4] and choices[0] == choices[8]) or \n",
    "       (choices[2] == choices[4] and choices[4] == choices[6])) :\n",
    "        winner = True\n",
    "        printBoard()\n",
    "\n",
    "print (\"Player \" + str(int(playerOneTurn + 1)) + \" wins!\\n\")"
   ]
  },
  {
   "cell_type": "code",
   "execution_count": 0,
   "metadata": {
    "colab": {},
    "colab_type": "code",
    "id": "ZZYYLI7YLENj"
   },
   "outputs": [],
   "source": []
  }
 ],
 "metadata": {
  "accelerator": "GPU",
  "colab": {
   "collapsed_sections": [],
   "include_colab_link": true,
   "name": "test.ipynb",
   "provenance": [],
   "version": "0.3.2"
  },
  "kernelspec": {
   "display_name": "Python 3",
   "language": "python",
   "name": "python3"
  },
  "language_info": {
   "codemirror_mode": {
    "name": "ipython",
    "version": 3
   },
   "file_extension": ".py",
   "mimetype": "text/x-python",
   "name": "python",
   "nbconvert_exporter": "python",
   "pygments_lexer": "ipython3",
   "version": "3.6.3"
  }
 },
 "nbformat": 4,
 "nbformat_minor": 1
}
