{
  "nbformat": 4,
  "nbformat_minor": 0,
  "metadata": {
    "colab": {
      "name": "InnTalk2.ipynb",
      "version": "0.3.2",
      "provenance": [],
      "collapsed_sections": [],
      "include_colab_link": true
    },
    "kernelspec": {
      "name": "python3",
      "display_name": "Python 3"
    }
  },
  "cells": [
    {
      "cell_type": "markdown",
      "metadata": {
        "id": "view-in-github",
        "colab_type": "text"
      },
      "source": [
        "[View in Colaboratory](https://colab.research.google.com/github/davidvela/testColabGH/blob/master/InnTalk2.ipynb)"
      ]
    },
    {
      "metadata": {
        "id": "o4zYGVywc1Lc",
        "colab_type": "text"
      },
      "cell_type": "markdown",
      "source": [
        "# INNOVATION TALK ... \n",
        "\n",
        "main goals: \n",
        "* new ideas - PR \n",
        "* getting to know other technologies \n",
        "\n",
        "\n",
        "x\n",
        "\n",
        "* AI \n",
        "* IoT \n",
        "* Web \n",
        "* Design Thinking \n",
        "\n",
        "Ideas ... develop something small \n",
        "\n",
        "main idea AN => Automatice process; which process do you have? "
      ]
    },
    {
      "metadata": {
        "id": "fNm_7ax2cBaO",
        "colab_type": "code",
        "colab": {}
      },
      "cell_type": "code",
      "source": [
        "# hello\n"
      ],
      "execution_count": 0,
      "outputs": []
    },
    {
      "metadata": {
        "id": "7AuUco_hRp3_",
        "colab_type": "code",
        "colab": {
          "base_uri": "https://localhost:8080/",
          "height": 34
        },
        "outputId": "c122b754-1e71-4176-e342-61cdb36b8c91"
      },
      "cell_type": "code",
      "source": [
        "print('hi')"
      ],
      "execution_count": 2,
      "outputs": [
        {
          "output_type": "stream",
          "text": [
            "hi\n"
          ],
          "name": "stdout"
        }
      ]
    },
    {
      "metadata": {
        "id": "C2bS0R8-RrFd",
        "colab_type": "code",
        "colab": {}
      },
      "cell_type": "code",
      "source": [
        ""
      ],
      "execution_count": 0,
      "outputs": []
    }
  ]
}